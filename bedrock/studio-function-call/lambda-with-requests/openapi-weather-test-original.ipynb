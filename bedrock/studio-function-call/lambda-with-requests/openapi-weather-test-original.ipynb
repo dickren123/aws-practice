{
 "cells": [
  {
   "cell_type": "code",
   "execution_count": 9,
   "metadata": {},
   "outputs": [],
   "source": [
    "import json\n",
    "from typing import Optional\n",
    "import requests\n",
    "from dataclasses import dataclass"
   ]
  },
  {
   "cell_type": "code",
   "execution_count": 10,
   "metadata": {},
   "outputs": [],
   "source": [
    "latitude = 52.52\n",
    "longitude = 13.41\n",
    "url = f\"https://api.open-meteo.com/v1/forecast?latitude={latitude}&longitude={longitude}&current_weather=true\"\n",
    "response = requests.get(url)"
   ]
  },
  {
   "cell_type": "code",
   "execution_count": 11,
   "metadata": {},
   "outputs": [
    {
     "name": "stdout",
     "output_type": "stream",
     "text": [
      "{'latitude': 52.52, 'longitude': 13.419998, 'generationtime_ms': 0.06401538848876953, 'utc_offset_seconds': 0, 'timezone': 'GMT', 'timezone_abbreviation': 'GMT', 'elevation': 38.0, 'current_weather_units': {'time': 'iso8601', 'interval': 'seconds', 'temperature': '°C', 'windspeed': 'km/h', 'winddirection': '°', 'is_day': '', 'weathercode': 'wmo code'}, 'current_weather': {'time': '2024-05-25T07:30', 'interval': 900, 'temperature': 18.2, 'windspeed': 9.7, 'winddirection': 184, 'is_day': 1, 'weathercode': 2}}\n"
     ]
    }
   ],
   "source": [
    "print(response.json())"
   ]
  },
  {
   "cell_type": "code",
   "execution_count": 12,
   "metadata": {},
   "outputs": [
    {
     "ename": "SyntaxError",
     "evalue": "'return' outside function (335647751.py, line 1)",
     "output_type": "error",
     "traceback": [
      "\u001b[0;36m  Cell \u001b[0;32mIn[12], line 1\u001b[0;36m\u001b[0m\n\u001b[0;31m    return {\u001b[0m\n\u001b[0m    ^\u001b[0m\n\u001b[0;31mSyntaxError\u001b[0m\u001b[0;31m:\u001b[0m 'return' outside function\n"
     ]
    }
   ],
   "source": [
    "return {\n",
    "    \"messageVersion\": \"1.0\",\n",
    "    \"response\": {\n",
    "        \"actionGroup\": event['actionGroup'],\n",
    "        \"apiPath\": event['apiPath'],\n",
    "        \"httpMethod\": event['httpMethod'],\n",
    "        \"httpStatusCode\": 200,\n",
    "        \"responseBody\": {\n",
    "            \"application/json\": {\n",
    "                \"body\": response.json()\n",
    "            }\n",
    "        }\n",
    "    }\n",
    "}"
   ]
  },
  {
   "cell_type": "code",
   "execution_count": null,
   "metadata": {},
   "outputs": [],
   "source": [
    "import json\n",
    "from typing import Optional\n",
    "import requests\n",
    "from dataclasses import dataclass\n",
    "\n",
    "\n",
    "def format_params(parameters):\n",
    "    result = {}\n",
    "    for param in parameters:\n",
    "        result[param['name']]=param['value']\n",
    "    return result\n",
    "    \n",
    "    \n",
    "def lambda_handler(event: dict, context: LambdaContext):\n",
    "    #Event: {'agent': {'alias': 'TSTALIASID', 'name': 'GetWeather', 'version': 'DRAFT', 'id': '68X4FYOEUN'}, \n",
    "    #   'sessionId': '022346938362354', 'sessionAttributes': {}, 'promptSessionAttributes': {}, 'inputText': 'beijing', \n",
    "    #   'apiPath': '/get_lat_long', 'httpMethod': 'GET', 'messageVersion': '1.0', 'actionGroup': 'get_weather', \n",
    "    #   'parameters': [{'name': 'place', 'type': 'string', 'value': 'beijing'}]}\n",
    "    params = format_params(event['parameters'])\n",
    "    print(params)\n",
    "    if event['apiPath'] == '/get_lat_long':\n",
    "        url = \"https://nominatim.openstreetmap.org/search\"\n",
    "        params = {'q': params.get('place'), 'format': 'json', 'limit': 1}\n",
    "        # 403 error\n",
    "        # response = requests.get(url, params=params)\n",
    "        # print(response)\n",
    "        # response = response.json()\n",
    "        response = [{\n",
    "            'lat': '39.9057136',\n",
    "            'lon': '116.3912972'\n",
    "        }]\n",
    "        if response:\n",
    "            lat = response[0][\"lat\"]\n",
    "            lon = response[0][\"lon\"]\n",
    "            result = {\"latitude\": lat, \"longitude\": lon}\n",
    "        else:\n",
    "            result = None\n",
    "        return {\n",
    "            \"messageVersion\": \"1.0\",\n",
    "            \"response\": {\n",
    "                \"actionGroup\": event['actionGroup'],\n",
    "                \"apiPath\": event['apiPath'],\n",
    "                \"httpMethod\": event['httpMethod'],\n",
    "                \"httpStatusCode\": 200,\n",
    "                \"responseBody\": {\n",
    "                    \"application/json\": {\n",
    "                        \"body\": json.dumps(result)\n",
    "                    }\n",
    "                }\n",
    "            }\n",
    "        }\n",
    "    elif event['apiPath'] == '/get_weather':\n",
    "        latitude = params.get('latitude')\n",
    "        longitude = params.get('longitude')\n",
    "        url = f\"https://api.open-meteo.com/v1/forecast?latitude={latitude}&longitude={longitude}&current_weather=true\"\n",
    "        response = requests.get(url)\n",
    "        return {\n",
    "            \"messageVersion\": \"1.0\",\n",
    "            \"response\": {\n",
    "                \"actionGroup\": event['actionGroup'],\n",
    "                \"apiPath\": event['apiPath'],\n",
    "                \"httpMethod\": event['httpMethod'],\n",
    "                \"httpStatusCode\": 200,\n",
    "                \"responseBody\": {\n",
    "                    \"application/json\": {\n",
    "                        \"body\": response.json()\n",
    "                    }\n",
    "                }\n",
    "            }\n",
    "        }\n",
    "    else:\n",
    "        return {\n",
    "            \"messageVersion\": \"1.0\",\n",
    "            \"response\": {\n",
    "                \"actionGroup\": event['actionGroup'],\n",
    "                \"apiPath\": event['apiPath'],\n",
    "                \"httpMethod\": event['httpMethod'],\n",
    "                \"httpStatusCode\": 404,\n",
    "                \"responseBody\": {\n",
    "                    \"application/json\": {\n",
    "                        \"body\": '{\"err\":\"no such function\"}'\n",
    "                    }\n",
    "                }\n",
    "            }\n",
    "        }"
   ]
  },
  {
   "cell_type": "code",
   "execution_count": 20,
   "metadata": {},
   "outputs": [],
   "source": [
    "url = \"https://nominatim.openstreetmap.org/search\"\n",
    "params = {'q': 'beijing', 'format': 'json', 'limit': 1}\n",
    "response = requests.get(url, params=params,headers={'referer': \"indie-test\"})\n",
    "print(response.json())\n",
    "response = response.json()"
   ]
  },
  {
   "cell_type": "code",
   "execution_count": 23,
   "metadata": {},
   "outputs": [
    {
     "name": "stdout",
     "output_type": "stream",
     "text": [
      "[{'place_id': 196154718, 'licence': 'Data © OpenStreetMap contributors, ODbL 1.0. http://osm.org/copyright', 'osm_type': 'node', 'osm_id': 25248662, 'lat': '39.9057136', 'lon': '116.3912972', 'class': 'place', 'type': 'city', 'place_rank': 15, 'importance': 0.7344014383682882, 'addresstype': 'city', 'name': '北京市', 'display_name': '北京市, 东城区, 北京市, 100010, 中国', 'boundingbox': ['39.7457136', '40.0657136', '116.2312972', '116.5512972']}]\n"
     ]
    }
   ],
   "source": [
    "print(response.json())"
   ]
  }
 ],
 "metadata": {
  "kernelspec": {
   "display_name": "Python 3",
   "language": "python",
   "name": "python3"
  },
  "language_info": {
   "codemirror_mode": {
    "name": "ipython",
    "version": 3
   },
   "file_extension": ".py",
   "mimetype": "text/x-python",
   "name": "python",
   "nbconvert_exporter": "python",
   "pygments_lexer": "ipython3",
   "version": "3.9.6"
  }
 },
 "nbformat": 4,
 "nbformat_minor": 2
}
